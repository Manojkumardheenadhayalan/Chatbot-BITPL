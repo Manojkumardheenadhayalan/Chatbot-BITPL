{
 "cells": [
  {
   "cell_type": "code",
   "execution_count": 1,
   "metadata": {},
   "outputs": [],
   "source": [
    "#uncomment during first use\n",
    "#!pip install git+https://github.com/huggingface/transformers.git"
   ]
  },
  {
   "cell_type": "code",
   "execution_count": 2,
   "metadata": {},
   "outputs": [],
   "source": [
    "#TRIED LOADING MISTRSAL. \n",
    "# NOT THE ORIGINAL VERSION, THE QUANTIZED VERSION (DUE TO RESOURCE INEFFICIENCIES). \n",
    "# BUT SINCE THE QUANTIZED VERSION IS A GGUF MODEL FOUND THAT IT SHOULD BE CONVERTED TO >BIN USING LLAMA_CPP_PYTHON. Working on the same now."
   ]
  },
  {
   "cell_type": "code",
   "execution_count": 3,
   "metadata": {},
   "outputs": [],
   "source": [
    "from langchain.llms import GPT4All"
   ]
  },
  {
   "cell_type": "code",
   "execution_count": 4,
   "metadata": {},
   "outputs": [
    {
     "name": "stdout",
     "output_type": "stream",
     "text": [
      "Found model file at  D:\\\\LLM_models\\\\TheBloke\\\\Llama-2-13B-chat-GGML\\\\llama-2-13b-chat.ggmlv3.q4_1.bin\n"
     ]
    }
   ],
   "source": [
    "# Instantiate the model. Callbacks support token-wise streaming\n",
    "model = GPT4All(model=\"D:\\LLM_models\\TheBloke\\Llama-2-13B-chat-GGML\\llama-2-13b-chat.ggmlv3.q4_1.bin\", n_threads=8)"
   ]
  },
  {
   "cell_type": "code",
   "execution_count": 5,
   "metadata": {},
   "outputs": [],
   "source": [
    "from langchain import  LLMChain\n",
    "from langchain.agents import ZeroShotAgent, Tool, AgentExecutor\n",
    "from langchain.memory import ConversationBufferMemory\n",
    "import os\n",
    "from langchain.tools import DuckDuckGoSearchRun"
   ]
  },
  {
   "cell_type": "code",
   "execution_count": 6,
   "metadata": {},
   "outputs": [],
   "source": [
    "# Initialize the LLM and tools\n",
    "llm = model\n",
    "# Define which tools the agent can use to answer user queries\n",
    "search = DuckDuckGoSearchRun()\n",
    "\n",
    "tools = [\n",
    "    Tool(\n",
    "        name = \"Search\",\n",
    "        func=search.run,\n",
    "        description=\"useful for when you need to answer questions about current events\"\n",
    "    )\n",
    "]\n",
    "# Define the prompt\n",
    "prefix = \"\"\"Have a conversation with a human, answering the following questions as best you can. You have access to the following tools:\"\"\"\n",
    "suffix = \"\"\"Begin!\"\n",
    "{chat_history}\n",
    "Question: {input}\n",
    "{agent_scratchpad}\"\"\"\n",
    "prompt = ZeroShotAgent.create_prompt(\n",
    "    tools,\n",
    "    prefix=prefix,\n",
    "    suffix=suffix,\n",
    "    input_variables=[\"input\", \"chat_history\", \"agent_scratchpad\"]\n",
    ")\n",
    "# Define the memory\n",
    "memory = ConversationBufferMemory(memory_key=\"chat_history\")\n",
    "# Initialize the LLM chain and the agent\n",
    "llm_chain = LLMChain(llm=llm, prompt=prompt)\n",
    "agent = ZeroShotAgent(llm_chain=llm_chain, tools=tools, verbose=True)\n",
    "# Initialize the agent executor\n",
    "agent_chain = AgentExecutor.from_agent_and_tools(agent=agent, tools=tools, verbose=True, memory=memory, handle_parsing_errors=True)"
   ]
  },
  {
   "cell_type": "code",
   "execution_count": 7,
   "metadata": {},
   "outputs": [
    {
     "name": "stdout",
     "output_type": "stream",
     "text": [
      "Found model file at  D:\\\\LLM_models\\\\TheBloke\\\\Llama-2-13B-chat-GGML\\\\llama-2-13b-chat.ggmlv3.q4_1.bin\n"
     ]
    }
   ],
   "source": [
    "from langchain.llms import GPT4All\n",
    "from langchain.callbacks.streaming_stdout import StreamingStdOutCallbackHandler\n",
    "\n",
    "# There are many CallbackHandlers supported, such as\n",
    "# from langchain.callbacks.streamlit import StreamlitCallbackHandler\n",
    "\n",
    "callbacks = [StreamingStdOutCallbackHandler()]\n",
    "model = GPT4All(model=\"D:\\LLM_models\\TheBloke\\Llama-2-13B-chat-GGML\\llama-2-13b-chat.ggmlv3.q4_1.bin\",  n_threads=8, callbacks=callbacks)\n",
    "\n",
    "# Generate text. Tokens are streamed through the callback manager.\n",
    "model(\"Tell me about Langchain \")"
   ]
  }
 ],
 "metadata": {
  "kernelspec": {
   "display_name": "Python 3",
   "language": "python",
   "name": "python3"
  },
  "language_info": {
   "codemirror_mode": {
    "name": "ipython",
    "version": 3
   },
   "file_extension": ".py",
   "mimetype": "text/x-python",
   "name": "python",
   "nbconvert_exporter": "python",
   "pygments_lexer": "ipython3",
   "version": "3.9.12"
  }
 },
 "nbformat": 4,
 "nbformat_minor": 2
}
