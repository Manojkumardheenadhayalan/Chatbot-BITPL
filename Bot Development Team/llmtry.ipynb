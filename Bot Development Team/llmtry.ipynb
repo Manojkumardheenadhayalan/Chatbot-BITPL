{
 "cells": [
  {
   "cell_type": "code",
   "execution_count": 12,
   "metadata": {},
   "outputs": [],
   "source": [
    "from langchain.llms import LlamaCpp\n",
    "from langchain.prompts import PromptTemplate\n",
    "from langchain.chains import LLMChain\n",
    "from langchain.callbacks.manager import CallbackManager\n",
    "from langchain.callbacks.streaming_stdout import StreamingStdOutCallbackHandler"
   ]
  },
  {
   "cell_type": "code",
   "execution_count": 14,
   "metadata": {},
   "outputs": [
    {
     "name": "stdout",
     "output_type": "stream",
     "text": [
      "Found model file at  D:\\\\LLM_models\\\\TheBloke\\\\Llama-2-13B-chat-GGML\\\\llama-2-13b-chat.ggmlv3.q4_1.bin\n"
     ]
    }
   ],
   "source": [
    "from langchain.llms import GPT4All\n",
    "\n",
    "llm = GPT4All(\n",
    "    model=\"D:\\LLM_models\\TheBloke\\Llama-2-13B-chat-GGML\\llama-2-13b-chat.ggmlv3.q4_1.bin\",\n",
    "    n_batch=512,\n",
    "    f16_kv=True,\n",
    "    # use_mlock=True,\n",
    "    n_threads=4,\n",
    "    n_predict=-1,\n",
    "    top_k=40,\n",
    "    top_p=0.95,\n",
    "    temp=0.8,\n",
    "    repeat_penalty=1.1,\n",
    "    repeat_last_n=64\n",
    ")"
   ]
  },
  {
   "cell_type": "code",
   "execution_count": null,
   "metadata": {},
   "outputs": [],
   "source": [
    "# n_batch=512,\n",
    "# seed=-1,\n",
    "# f16_kv=True,\n",
    "# use_mlock=True,\n",
    "# n_threads=4,\n",
    "# n_predict=-1,\n",
    "# top_k=40,\n",
    "# top_p=0.95,\n",
    "# temp=0.8,\n",
    "# repeat_penalty=1.1,\n",
    "# repeat_last_n=64,"
   ]
  },
  {
   "cell_type": "code",
   "execution_count": 15,
   "metadata": {},
   "outputs": [],
   "source": [
    "from langchain.chains import LLMChain\n",
    "from langchain.prompts import PromptTemplate\n",
    "\n",
    "# Create a PromptTemplate\n",
    "prompt = PromptTemplate.from_template(\"{question}\")\n",
    "\n",
    "# Create the LLMChain\n",
    "llm_chain = LLMChain(llm=llm, prompt=prompt)"
   ]
  },
  {
   "cell_type": "code",
   "execution_count": 16,
   "metadata": {},
   "outputs": [
    {
     "data": {
      "text/plain": [
       "''"
      ]
     },
     "execution_count": 16,
     "metadata": {},
     "output_type": "execute_result"
    }
   ],
   "source": [
    "llm_chain.run(\"Tell me about Langchain\")"
   ]
  },
  {
   "cell_type": "code",
   "execution_count": 17,
   "metadata": {},
   "outputs": [
    {
     "name": "stdout",
     "output_type": "stream",
     "text": [
      "Found model file at  D:\\\\LLM_models\\\\TheBloke\\\\Llama-2-13B-chat-GGML\\\\llama-2-13b-chat.ggmlv3.q4_1.bin\n"
     ]
    },
    {
     "data": {
      "text/plain": [
       "'2.tells you that thet are no longer accepting new customers.\";\\n} else { lang = \"I\\'m sorry, but we are not able to accept any more customers at this time.\" } The assistant nodded and said, \"I understand. We are currently not accepting new customers due to high traffic volume.\" Lang smiled and said, \"Ah, I see. In that case, we will have to decline your request for a new customer account.\"} else { lang = \"I apologize, but we cannot accept any more customers at this time due to high traffic volume.\" } The assistant nodded and said, \"I understand. We are currently not accepting new customers due to high traffic volume.\" Lang smiled and said, \"Ah, I see. In that case, we will have to decline your request for a new customer account.\"} else { lang = \"I apologize, but we cannot accept any more customers at this time due to high traffic volume.\" } The assistant nodded and said, \"I understand. We are currently not accepting new customers due to high traffic volume.\" Lang smiled and said, \"Ah, I see. In that case, we will have to decline your request for a new customer account.\"'"
      ]
     },
     "execution_count": 17,
     "metadata": {},
     "output_type": "execute_result"
    }
   ],
   "source": [
    "# Import necessary modules\n",
    "from langchain.llms import GPT4All\n",
    "from langchain.prompts import PromptTemplate\n",
    "from langchain.chains import LLMChain\n",
    "\n",
    "# Load GPT4All model\n",
    "llm = GPT4All(\n",
    "    model=\"D:\\LLM_models\\TheBloke\\Llama-2-13B-chat-GGML\\llama-2-13b-chat.ggmlv3.q4_1.bin\",\n",
    "    \n",
    ")\n",
    "\n",
    "# Define prompt template\n",
    "prompt = PromptTemplate.from_template(\n",
    "    \"\"\"{question} \"\"\"\n",
    ")\n",
    "\n",
    "# Create LLMChain\n",
    "llm_chain = LLMChain(llm=llm, prompt=prompt)\n",
    "\n",
    "# Run LLMChain\n",
    "llm_chain.run(\"Tell me about Langchain\")"
   ]
  }
 ],
 "metadata": {
  "kernelspec": {
   "display_name": "Chatproj",
   "language": "python",
   "name": "chatproj"
  },
  "language_info": {
   "codemirror_mode": {
    "name": "ipython",
    "version": 3
   },
   "file_extension": ".py",
   "mimetype": "text/x-python",
   "name": "python",
   "nbconvert_exporter": "python",
   "pygments_lexer": "ipython3",
   "version": "3.9.12"
  }
 },
 "nbformat": 4,
 "nbformat_minor": 2
}
